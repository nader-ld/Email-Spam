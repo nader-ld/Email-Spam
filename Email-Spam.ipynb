{
 "cells": [
  {
   "cell_type": "code",
   "execution_count": 1,
   "metadata": {},
   "outputs": [],
   "source": [
    "from sklearn.model_selection import cross_val_score\n",
    "from sklearn.svm import SVC\n",
    "from sklearn.model_selection import train_test_split\n",
    "from sklearn.linear_model import LogisticRegression\n",
    "from sklearn.metrics import classification_report\n",
    "from sklearn.feature_extraction.text import CountVectorizer\n",
    "from scipy import sparse\n",
    "import matplotlib.pyplot as plt\n",
    "from os import listdir\n",
    "import numpy as np\n",
    "import re"
   ]
  },
  {
   "cell_type": "markdown",
   "metadata": {},
   "source": [
    "# Data Preparation"
   ]
  },
  {
   "cell_type": "markdown",
   "metadata": {},
   "source": [
    "## Creating a list of punctuations to be removed"
   ]
  },
  {
   "cell_type": "code",
   "execution_count": 2,
   "metadata": {},
   "outputs": [],
   "source": [
    "chr_list = \"\"\"!#%^&*()+=-_{}[]\\|;:,\"'<.>/?~`\"\"\"\n",
    "patt = \"\"\"\"\"\"\n",
    "for i in chr_list:\n",
    "    patt += \"\\\\\" + i + \"|\""
   ]
  },
  {
   "cell_type": "markdown",
   "metadata": {},
   "source": [
    "## Normalizing the non-spam (list 1) emails"
   ]
  },
  {
   "cell_type": "code",
   "execution_count": 3,
   "metadata": {},
   "outputs": [],
   "source": [
    "content_ham = []\n",
    "for email in listdir('easy_ham/'):\n",
    "    file = open('easy_ham//' + email, mode='r', errors='ignore')\n",
    "    \n",
    "    dat = file.read().lower() #lower-casing the characters\n",
    "    file.close()\n",
    "    \n",
    "    d1 = re.sub(patt[:-1], \"\", dat) #removing the punctuations\n",
    "    d1 = d1.replace('$','dollar') #replacing $ with the word \"dollar\"\n",
    "    d2 = d1.split()\n",
    "    for i in range(len(d2)):\n",
    "        if d2[i].isdigit(): \n",
    "            d2[i] = 'number' #changing numbers into the word \"number\"\n",
    "        elif '@' in d2[i]: \n",
    "            d2[i] = 'emailaddr' #changing email addresses into the word \"emailaddr\"\n",
    "        elif 'http' in d2[i]:\n",
    "            d2[i] = 'urladdr' #changing url addresses into the word \"urladdr\"\n",
    "    content_ham.append(\" \".join(d2))\n",
    "    "
   ]
  },
  {
   "cell_type": "markdown",
   "metadata": {},
   "source": [
    "## Normalizing the non-spam (list 2) emails"
   ]
  },
  {
   "cell_type": "code",
   "execution_count": 4,
   "metadata": {},
   "outputs": [],
   "source": [
    "content_ham_hard = []\n",
    "for email in listdir('hard_ham/'):\n",
    "    file = open('hard_ham//' + email, mode='r', errors='ignore')\n",
    "    \n",
    "    dat = file.read().lower() #lower-casing the characters\n",
    "    file.close()\n",
    "    \n",
    "    d1 = re.sub(patt[:-1], \"\", dat) #removing the punctuations\n",
    "    d1 = d1.replace('$','dollar') #replacing $ with the word \"dollar\"\n",
    "    d2 = d1.split()\n",
    "    for i in range(len(d2)):\n",
    "        if d2[i].isdigit():\n",
    "            d2[i] = 'number' #changing numbers into the word \"number\"\n",
    "        elif '@' in d2[i]:\n",
    "            d2[i] = 'emailaddr' #changing email addresses into the word \"emailaddr\"\n",
    "        elif 'http' in d2[i]:\n",
    "            d2[i] = 'urladdr' #changing url addresses into the word \"urladdr\"\n",
    "    content_ham_hard.append(\" \".join(d2))\n",
    "    "
   ]
  },
  {
   "cell_type": "markdown",
   "metadata": {},
   "source": [
    "## Normalizing the spam emails"
   ]
  },
  {
   "cell_type": "code",
   "execution_count": 5,
   "metadata": {},
   "outputs": [],
   "source": [
    "content_spam = []\n",
    "for email in listdir('spam/'):\n",
    "    file = open('spam//' + email, mode='r', errors='ignore')\n",
    "    \n",
    "    dat = file.read().lower() #lower-casing the characters\n",
    "    file.close()\n",
    "    \n",
    "    d1 = re.sub(patt[:-1], \"\", dat) #removing the punctuations\n",
    "    d1 = d1.replace('$','dollar') #replacing $ with the word \"dollar\"\n",
    "    d2 = d1.split()\n",
    "    for i in range(len(d2)):\n",
    "        if d2[i].isdigit():\n",
    "            d2[i] = 'number' #changing numbers into the word \"number\"\n",
    "        elif '@' in d2[i]:\n",
    "            d2[i] = 'emailaddr' #changing email addresses into the word \"emailaddr\"\n",
    "        elif 'http' in d2[i]:\n",
    "            d2[i] = 'urladdr' #changing url addresses into the word \"urladdr\"\n",
    "    content_spam.append(\" \".join(d2))\n",
    "    "
   ]
  },
  {
   "cell_type": "markdown",
   "metadata": {},
   "source": [
    "## Combining non-spam and spam content together as well as their labels "
   ]
  },
  {
   "cell_type": "code",
   "execution_count": 6,
   "metadata": {
    "scrolled": true
   },
   "outputs": [
    {
     "name": "stdout",
     "output_type": "stream",
     "text": [
      "(3302,)\n"
     ]
    }
   ],
   "source": [
    "contents = content_ham + content_ham_hard + content_spam\n",
    "labels = np.vstack([np.zeros((len(content_ham),1))\n",
    "                    ,np.zeros((len(content_ham_hard),1))\n",
    "                    ,np.ones((len(content_spam),1))])\n",
    "labels = labels.reshape(len(labels))\n",
    "\n",
    "print(labels.shape)"
   ]
  },
  {
   "cell_type": "markdown",
   "metadata": {},
   "source": [
    "## Tokenizing"
   ]
  },
  {
   "cell_type": "code",
   "execution_count": 7,
   "metadata": {},
   "outputs": [
    {
     "name": "stdout",
     "output_type": "stream",
     "text": [
      "(3302, 564)\n"
     ]
    }
   ],
   "source": [
    "# creating a sparse matrix of token counts using single words in the emails\n",
    "# 5% of tokens with highest and lowest frequencies in the content are ignored\n",
    "\n",
    "vectorizer = CountVectorizer(ngram_range=(1,1), analyzer='word', min_df=0.05, max_df=0.95 )\n",
    "X = vectorizer.fit_transform(contents)\n",
    "\n",
    "print(X.shape)"
   ]
  },
  {
   "cell_type": "markdown",
   "metadata": {},
   "source": [
    "# Train and Test Example"
   ]
  },
  {
   "cell_type": "code",
   "execution_count": 8,
   "metadata": {},
   "outputs": [
    {
     "name": "stdout",
     "output_type": "stream",
     "text": [
      "svm_split_report:\n",
      "              precision    recall  f1-score   support\n",
      "\n",
      "         0.0       0.99      1.00      0.99       561\n",
      "         1.0       0.98      0.92      0.95       100\n",
      "\n",
      "    accuracy                           0.98       661\n",
      "   macro avg       0.98      0.96      0.97       661\n",
      "weighted avg       0.98      0.98      0.98       661\n",
      "\n",
      "\n",
      "\n"
     ]
    }
   ],
   "source": [
    "X_train, X_test, y_train, y_test = train_test_split(X, labels, test_size=0.2, stratify=labels)\n",
    "\n",
    "# SVM classifier\n",
    "svm_split = SVC(kernel='rbf', gamma='auto')\n",
    "svm_split.fit(X_train, y_train)\n",
    "svm_pred = svm_split.predict(X_test)\n",
    "\n",
    "print('svm_split_report:',classification_report(y_test, svm_pred),'\\n', sep='\\n')\n"
   ]
  },
  {
   "cell_type": "markdown",
   "metadata": {},
   "source": [
    "# Validation Curve"
   ]
  },
  {
   "cell_type": "code",
   "execution_count": 15,
   "metadata": {},
   "outputs": [
    {
     "data": {
      "image/png": "[encoded data removed]",
      "text/plain": [
       "<Figure size 432x288 with 1 Axes>"
      ]
     },
     "metadata": {
      "needs_background": "light"
     },
     "output_type": "display_data"
    }
   ],
   "source": [
    "#here, in order to avoid overfitting or underfitting a range of regularization parameter C is being validated\n",
    "\n",
    "from sklearn.model_selection import validation_curve\n",
    "\n",
    "indices = np.arange(len(labels))\n",
    "np.random.shuffle(indices)\n",
    "X_val, y_val = X[indices], labels[indices] #shuffling the training examples\n",
    "\n",
    "par_range = [0.5, 1, 2, 5, 10] #range of regularization parameter C in SVC\n",
    "\n",
    "#training and validation\n",
    "train_scores_valid_curve, valid_scores_valid_curve = validation_curve(\n",
    "    SVC(kernel='rbf', gamma='auto'), X_val, y_val, 'C',par_range, cv=10 , scoring='f1')\n",
    "\n",
    "train_scores_std = np.std(train_scores_valid_curve, axis=1)\n",
    "valid_scores_std = np.std(valid_scores_valid_curve, axis=1)\n",
    "train_scores_mean = np.mean(train_scores_valid_curve, axis=1)\n",
    "valid_scores_mean = np.mean(valid_scores_valid_curve, axis=1)\n",
    "\n",
    "plt.grid()\n",
    "\n",
    "plt.fill_between(par_range, train_scores_mean - train_scores_std,\n",
    "                     train_scores_mean + train_scores_std, alpha=0.1,\n",
    "                     color=\"r\")\n",
    "plt.fill_between(par_range, valid_scores_mean - valid_scores_std,\n",
    "                     valid_scores_mean + valid_scores_std, alpha=0.1, color=\"g\")\n",
    "plt.plot(par_range, train_scores_mean, 'b-o',label = 'Train')\n",
    "plt.plot(par_range, valid_scores_mean, 'g-o',label = 'Validation')\n",
    "plt.xlabel('Regularization Parameter (C)')\n",
    "plt.ylabel('f1-Score')\n",
    "plt.title('Validation Curve')\n",
    "plt.legend(loc='best')\n",
    "plt.show()"
   ]
  },
  {
   "cell_type": "code",
   "execution_count": 16,
   "metadata": {},
   "outputs": [
    {
     "data": {
      "text/plain": [
       "array([0.03267693, 0.02009457, 0.01943206, 0.01824075, 0.01824075])"
      ]
     },
     "execution_count": 16,
     "metadata": {},
     "output_type": "execute_result"
    }
   ],
   "source": [
    "np.std(valid_scores_valid_curve, axis=1)"
   ]
  },
  {
   "cell_type": "raw",
   "metadata": {},
   "source": [
    "# Based on the validation curve, choice of C=2.0 should suffice\n",
    "# since it has a high mean score and also low score standard deviation"
   ]
  },
  {
   "cell_type": "markdown",
   "metadata": {},
   "source": [
    "# Learning Curve"
   ]
  },
  {
   "cell_type": "code",
   "execution_count": 14,
   "metadata": {},
   "outputs": [
    {
     "data": {
      "image/png": "[encoded data removed]",
      "text/plain": [
       "<Figure size 432x288 with 1 Axes>"
      ]
     },
     "metadata": {
      "needs_background": "light"
     },
     "output_type": "display_data"
    }
   ],
   "source": [
    "# here, we check the validation and training score of our estimator for varying numbers of training samples.\n",
    "\n",
    "from sklearn.model_selection import learning_curve\n",
    "\n",
    "train_sizes, train_scores_learn_curve, valid_scores_learn_curve = learning_curve(\n",
    "    SVC(kernel='rbf', gamma='auto', C=2.0), X, labels, train_sizes=np.linspace(0.1, 1, 10), cv=10,\n",
    "    scoring='f1', shuffle = True)\n",
    "\n",
    "train_scores_std = np.std(train_scores_learn_curve, axis=1)\n",
    "valid_scores_std = np.std(valid_scores_learn_curve, axis=1)\n",
    "train_scores_mean = np.mean(train_scores_learn_curve, axis=1)\n",
    "valid_scores_mean = np.mean(valid_scores_learn_curve, axis=1)\n",
    "\n",
    "plt.grid()\n",
    "\n",
    "plt.fill_between(train_sizes, train_scores_mean - train_scores_std,\n",
    "                     train_scores_mean + train_scores_std, alpha=0.1,\n",
    "                     color=\"r\")\n",
    "\n",
    "plt.fill_between(train_sizes, valid_scores_mean - valid_scores_std,\n",
    "                     valid_scores_mean + valid_scores_std, alpha=0.1, color=\"g\")\n",
    "\n",
    "plt.plot(train_sizes, train_scores_mean, 'b-o',label = 'Train')\n",
    "plt.plot(train_sizes, valid_scores_mean, 'g-o',label = 'Validation')\n",
    "\n",
    "plt.xlabel('Number of Training examples')\n",
    "plt.ylabel('f1-Score')\n",
    "plt.title('Learning Curve')\n",
    "plt.legend(loc='best')\n",
    "plt.show()"
   ]
  },
  {
   "cell_type": "raw",
   "metadata": {},
   "source": [
    "# Based on the learning curve, obtaining additional training examples may help"
   ]
  },
  {
   "cell_type": "markdown",
   "metadata": {},
   "source": [
    "# Cross Validation Score"
   ]
  },
  {
   "cell_type": "code",
   "execution_count": 11,
   "metadata": {},
   "outputs": [
    {
     "name": "stdout",
     "output_type": "stream",
     "text": [
      "svm cross validation score:\n",
      "[0.93877551 0.9010989  0.95833333 0.94736842 0.97959184 0.94736842\n",
      " 0.95833333 0.91304348 0.92473118 0.77419355]\n",
      "\n",
      "\n",
      "svm cross validation mean score:\n",
      "0.9242837966253272\n",
      "\n",
      "\n",
      "svm cross validation std score:\n",
      "0.05463030078743098\n",
      "\n",
      "\n"
     ]
    }
   ],
   "source": [
    "# SVM classifier\n",
    "svm_cv = SVC(C=2.0, kernel='rbf', gamma='auto')\n",
    "svm_score_cv = cross_val_score(svm_cv, X, labels, cv=10, scoring='f1')\n",
    "\n",
    "print('svm cross validation f1-score:',svm_score_cv,'\\n', sep='\\n')\n",
    "print('svm cross validation mean f1-score:',np.mean(svm_score_cv),'\\n', sep='\\n')\n",
    "print('svm cross validation std f1-score:',np.std(svm_score_cv),'\\n', sep='\\n')"
   ]
  },
  {
   "cell_type": "markdown",
   "metadata": {},
   "source": [
    "# Saving the trained SVM classifier for spam emails"
   ]
  },
  {
   "cell_type": "code",
   "execution_count": 17,
   "metadata": {},
   "outputs": [
    {
     "data": {
      "text/plain": [
       "['spam_email_SVM_classifier.pkl']"
      ]
     },
     "execution_count": 17,
     "metadata": {},
     "output_type": "execute_result"
    }
   ],
   "source": [
    "# Here, we use all the dataset for training a SVM classifier and save it\n",
    "\n",
    "import joblib\n",
    "\n",
    "svm_out = SVC(C=2.0, kernel='rbf', gamma='auto')\n",
    "svm_out.fit(X, labels)\n",
    "joblib.dump(svm_out, 'spam_email_SVM_classifier.pkl')"
   ]
  }
 ],
 "metadata": {
  "kernelspec": {
   "display_name": "Python 3",
   "language": "python",
   "name": "python3"
  },
  "language_info": {
   "codemirror_mode": {
    "name": "ipython",
    "version": 3
   },
   "file_extension": ".py",
   "mimetype": "text/x-python",
   "name": "python",
   "nbconvert_exporter": "python",
   "pygments_lexer": "ipython3",
   "version": "3.6.1"
  }
 },
 "nbformat": 4,
 "nbformat_minor": 2
}
